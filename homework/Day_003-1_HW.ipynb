{
 "cells": [
  {
   "cell_type": "code",
   "execution_count": 5,
   "metadata": {},
   "outputs": [
    {
     "name": "stdout",
     "output_type": "stream",
     "text": [
      "Object `import pandas as pd` not found.\n",
      "Object `import numpy as np` not found.\n"
     ]
    }
   ],
   "source": [
    "import pandas as pd\n",
    "import numpy as np"
   ]
  },
  {
   "cell_type": "code",
   "execution_count": 20,
   "metadata": {},
   "outputs": [
    {
     "name": "stdout",
     "output_type": "stream",
     "text": [
      "       國家         人口\n",
      "0  Taiwan  287342718\n",
      "1   U.S.A  964992193\n",
      "2   Japon  324531566\n"
     ]
    }
   ],
   "source": [
    "country=['Taiwan','U.S.A','Japon']\n",
    "population=np.random.randint(1000000000,size=len(country))\n",
    "data = {'國家':country ,\n",
    "        '人口':population}\n",
    "data = pd.DataFrame(data)\n",
    "\n",
    "print(data)"
   ]
  },
  {
   "cell_type": "code",
   "execution_count": 22,
   "metadata": {},
   "outputs": [
    {
     "name": "stdout",
     "output_type": "stream",
     "text": [
      "人口數最多的國家：\n",
      "國家        U.S.A\n",
      "人口    964992193\n",
      "Name: 1, dtype: object\n"
     ]
    }
   ],
   "source": [
    "print('人口數最多的國家：')\n",
    "print(data.loc[data['人口'].idxmax()])"
   ]
  }
 ],
 "metadata": {
  "kernelspec": {
   "display_name": "Python 3",
   "language": "python",
   "name": "python3"
  },
  "language_info": {
   "codemirror_mode": {
    "name": "ipython",
    "version": 3
   },
   "file_extension": ".py",
   "mimetype": "text/x-python",
   "name": "python",
   "nbconvert_exporter": "python",
   "pygments_lexer": "ipython3",
   "version": "3.7.3"
  }
 },
 "nbformat": 4,
 "nbformat_minor": 2
}
